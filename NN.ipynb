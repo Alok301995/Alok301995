{
  "nbformat": 4,
  "nbformat_minor": 0,
  "metadata": {
    "colab": {
      "name": "NN.ipynb",
      "provenance": [],
      "collapsed_sections": [],
      "authorship_tag": "ABX9TyNFESzyqYNmQL8KF3YmMoo+",
      "include_colab_link": true
    },
    "kernelspec": {
      "name": "python3",
      "display_name": "Python 3"
    },
    "language_info": {
      "name": "python"
    }
  },
  "cells": [
    {
      "cell_type": "markdown",
      "metadata": {
        "id": "view-in-github",
        "colab_type": "text"
      },
      "source": [
        "<a href=\"https://colab.research.google.com/github/Alok301995/Alok301995/blob/main/NN.ipynb\" target=\"_parent\"><img src=\"https://colab.research.google.com/assets/colab-badge.svg\" alt=\"Open In Colab\"/></a>"
      ]
    },
    {
      "cell_type": "code",
      "metadata": {
        "id": "U9PFrvV_2rqq"
      },
      "source": [
        "import keras\n",
        "from keras.models import Sequential\n",
        "from keras.layers import Dense , Activation\n",
        "import pandas as pd\n",
        "import numpy as np\n",
        "import tensorflow as tf\n"
      ],
      "execution_count": 191,
      "outputs": []
    },
    {
      "cell_type": "code",
      "metadata": {
        "id": "IS3AEWYO3P_e"
      },
      "source": [
        "train_data = pd.read_csv('./sample_data/optdigits.csv').to_numpy()\n",
        "test_data = pd.read_csv('./sample_data/test.csv').to_numpy()"
      ],
      "execution_count": 177,
      "outputs": []
    },
    {
      "cell_type": "code",
      "metadata": {
        "colab": {
          "base_uri": "https://localhost:8080/"
        },
        "id": "QUe3NtSBLOgt",
        "outputId": "6a077f5c-cb0c-4f2c-8ab4-a51adb6a979a"
      },
      "source": [
        "test_data.shape"
      ],
      "execution_count": 178,
      "outputs": [
        {
          "output_type": "execute_result",
          "data": {
            "text/plain": [
              "(1796, 65)"
            ]
          },
          "metadata": {},
          "execution_count": 178
        }
      ]
    },
    {
      "cell_type": "code",
      "metadata": {
        "id": "DI9wyv6x8hcx"
      },
      "source": [
        "train_data , train_labels = train_data[: ,:-1].astype('float32') , train_data[:,-1].astype('float32')"
      ],
      "execution_count": 180,
      "outputs": []
    },
    {
      "cell_type": "code",
      "metadata": {
        "id": "dtRZgLOs9LeQ"
      },
      "source": [
        "test_data , test_labels  = test_data[: ,:-1].astype('float32') , test_data[:,-1].astype('float32')"
      ],
      "execution_count": 181,
      "outputs": []
    },
    {
      "cell_type": "code",
      "metadata": {
        "id": "aFcbj8zfGk7g"
      },
      "source": [
        "train_data /= 255\n",
        "test_data /= 255"
      ],
      "execution_count": 182,
      "outputs": []
    },
    {
      "cell_type": "code",
      "metadata": {
        "colab": {
          "base_uri": "https://localhost:8080/"
        },
        "id": "xmoGrpIGLFc_",
        "outputId": "ad6ccacc-e212-4582-84b0-1057d17e1dca"
      },
      "source": [
        "train_data.shape"
      ],
      "execution_count": 183,
      "outputs": [
        {
          "output_type": "execute_result",
          "data": {
            "text/plain": [
              "(3822, 64)"
            ]
          },
          "metadata": {},
          "execution_count": 183
        }
      ]
    },
    {
      "cell_type": "code",
      "metadata": {
        "id": "fJhLi0hEGtSZ"
      },
      "source": [
        "NN = Sequential()\n"
      ],
      "execution_count": 184,
      "outputs": []
    },
    {
      "cell_type": "code",
      "metadata": {
        "id": "QbmgT8wOIVOY"
      },
      "source": [
        "NN.add(Dense(64 , input_shape = (64,)))\n",
        "NN.add(Activation('sigmoid'))\n",
        "NN.add(Dense(2))\n",
        "NN.add(Activation('sigmoid'))\n",
        "NN.add(Dense(3))\n",
        "NN.add(Activation('sigmoid'))\n",
        "NN.add(Dense(10))\n",
        "NN.add(Activation('sigmoid'))"
      ],
      "execution_count": 223,
      "outputs": []
    },
    {
      "cell_type": "code",
      "metadata": {
        "id": "2ACJM1NuI9DU"
      },
      "source": [
        "opt = tf.keras.optimizers.SGD(learning_rate=0.000001)"
      ],
      "execution_count": 224,
      "outputs": []
    },
    {
      "cell_type": "code",
      "metadata": {
        "id": "wImOGW06Jx3f"
      },
      "source": [
        "NN.compile(loss= tf.keras.losses.SparseCategoricalCrossentropy() ,optimizer = opt , metrics=['accuracy'])"
      ],
      "execution_count": 225,
      "outputs": []
    },
    {
      "cell_type": "code",
      "metadata": {
        "colab": {
          "base_uri": "https://localhost:8080/"
        },
        "id": "OOqIYc1tKZTG",
        "outputId": "5fb68546-cf34-4546-a2ab-b8cd3d38ea24"
      },
      "source": [
        "NN.fit(train_data , train_labels ,batch_size=2 ,epochs=2 , validation_split=0.2)"
      ],
      "execution_count": 229,
      "outputs": [
        {
          "output_type": "stream",
          "name": "stdout",
          "text": [
            "Epoch 1/2\n",
            "1529/1529 [==============================] - 5s 3ms/step - loss: 2.3351 - accuracy: 0.1001 - val_loss: 2.3489 - val_accuracy: 0.0967\n",
            "Epoch 2/2\n",
            "1529/1529 [==============================] - 5s 3ms/step - loss: 2.3351 - accuracy: 0.1001 - val_loss: 2.3489 - val_accuracy: 0.0967\n"
          ]
        },
        {
          "output_type": "execute_result",
          "data": {
            "text/plain": [
              "<keras.callbacks.History at 0x7f9120457f90>"
            ]
          },
          "metadata": {},
          "execution_count": 229
        }
      ]
    },
    {
      "cell_type": "code",
      "metadata": {
        "colab": {
          "base_uri": "https://localhost:8080/"
        },
        "id": "K5IoZwyoK9NA",
        "outputId": "700911a2-8bab-4b2e-c3c0-c9956e238ddf"
      },
      "source": [
        "NN.evaluate(test_data ,test_labels)"
      ],
      "execution_count": 222,
      "outputs": [
        {
          "output_type": "stream",
          "name": "stdout",
          "text": [
            "57/57 [==============================] - 0s 2ms/step - loss: 2.3550 - accuracy: 0.1013\n"
          ]
        },
        {
          "output_type": "execute_result",
          "data": {
            "text/plain": [
              "[2.355043888092041, 0.10133630037307739]"
            ]
          },
          "metadata": {},
          "execution_count": 222
        }
      ]
    },
    {
      "cell_type": "markdown",
      "metadata": {
        "id": "r2QXSXg9SsS-"
      },
      "source": [
        ""
      ]
    },
    {
      "cell_type": "code",
      "metadata": {
        "id": "hLBZ538YMNxm"
      },
      "source": [
        ""
      ],
      "execution_count": null,
      "outputs": []
    }
  ]
}